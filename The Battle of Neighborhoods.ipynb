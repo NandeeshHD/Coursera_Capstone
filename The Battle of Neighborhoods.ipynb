{
    "nbformat_minor": 1, 
    "cells": [
        {
            "source": "# Capstone Project - IBM Data Science\n### Applied Data Science Capstone by IBM/Coursera", 
            "cell_type": "markdown", 
            "metadata": {}
        }, 
        {
            "source": "## Table of contents\n* [Introduction](#introduction)\n* [Data](#data)\n* [Methodology](#methodology)\n* [Analysis](#analysis)\n* [Results and Discussion](#results)\n* [Conclusion](#conclusion)", 
            "cell_type": "markdown", 
            "metadata": {}
        }, 
        {
            "source": "## Introduction <a name=\"introduction\"></a>", 
            "cell_type": "markdown", 
            "metadata": {}
        }, 
        {
            "source": "As Munich developed and grew, more and more suburbs and villages of the surrounding area have become an integral part of the Bavarian capital and the third largest city in Germany. Today, the city extends to an area of some 31.1 hectares. The largest expansion of the urban area is 20.7 kilometers from north to south and from east to west 26.9 km. The extent of the city limits is 119 km. Munich is divided into 25 administrative districts. The data in [this page](http://www.total-munich.com/20160623888/blog/moving-to-munich/moving-to-munich-introduction-to-munich-s-boroughs.html) shows all of the city\u2019s 25 districts, as well as their respective surface and population. The data also shows the percentage of foreigners living in each of the districts and the density of the population in each of them.", 
            "cell_type": "markdown", 
            "metadata": {}
        }, 
        {
            "source": "#### Business Problen", 
            "cell_type": "markdown", 
            "metadata": {}
        }, 
        {
            "source": "As a Capstone Project for the IBM Data Science professional course, I decided to explore the districts of **Munich**, Germany. And try to find which district would be optimal to open an **Indian restaurant**.\n\nSince there are lots of restaurants in Munich I will try to detect **districts that are not already crowded with restaurants** and particularly interested in **areas with no Indian restaurants in vicinity**. Also analyze does this has any influence from **population density of foreigners**.\n\nPower of data science is used to generate a few most promissing districts based on this criteria. Advantages of each area will then be clearly expressed so that best possible final location can be chosen by stakeholders.", 
            "cell_type": "markdown", 
            "metadata": {}
        }, 
        {
            "source": "## Data <a name=\"data\"></a>", 
            "cell_type": "markdown", 
            "metadata": {}
        }, 
        {
            "source": "Based on definition of our problem, factors that will influence our decission are:\n* number of existing restaurants in the district (any type of restaurant)\n* number of Indian restaurants in the district, if any\n* population density of foreigners in the district\n\nFollowing data sources will be needed to extract/generate the required information:\n* The districts in Munich and the population data is obtained from [this webpage](https://www.total-munich.com/20160623888/blog/moving-to-munich/moving-to-munich-introduction-to-munich-s-boroughs.html).\n* I have exracted the `GeoJSON` data for the districts and is available at the following [link](https://s3.us.cloud-object-storage.appdomain.cloud/coursera-ibm-datascience/Munich_Districts.geojson)\n* centers of candidate districts will be generated algorithmically and approximate addresses of centers of those areas will be obtained using **Geocoder Python package**\n* number of restaurants and their type and location in every neighborhood will be obtained using **Foursquare API**\n", 
            "cell_type": "markdown", 
            "metadata": {}
        }, 
        {
            "execution_count": null, 
            "cell_type": "code", 
            "metadata": {}, 
            "outputs": [], 
            "source": ""
        }
    ], 
    "metadata": {
        "kernelspec": {
            "display_name": "Python 3.6", 
            "name": "python3", 
            "language": "python"
        }, 
        "language_info": {
            "mimetype": "text/x-python", 
            "nbconvert_exporter": "python", 
            "version": "3.6.8", 
            "name": "python", 
            "file_extension": ".py", 
            "pygments_lexer": "ipython3", 
            "codemirror_mode": {
                "version": 3, 
                "name": "ipython"
            }
        }
    }, 
    "nbformat": 4
}